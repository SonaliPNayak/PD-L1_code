{
 "cells": [
  {
   "cell_type": "code",
   "execution_count": 11,
   "metadata": {},
   "outputs": [
    {
     "name": "stdout",
     "output_type": "stream",
     "text": [
      "LP Point found \n",
      "LP Point found \n"
     ]
    },
    {
     "data": {
      "image/png": "[encoded data removed]",
      "text/plain": [
       "<Figure size 432x288 with 1 Axes>"
      ]
     },
     "metadata": {
      "needs_background": "light"
     },
     "output_type": "display_data"
    }
   ],
   "source": [
    "import PyDSTool as dst\n",
    "import numpy as np\n",
    "from matplotlib import pyplot as plt\n",
    "\n",
    "# we must give a name\n",
    "DSargs = dst.args(name='F')\n",
    "# parameters_set_4582\n",
    "DSargs.pars = {\n",
    "'g_ZEB1' : 45.020691,\n",
    "'g_miR200' : 28.038323,\n",
    "'g_PDL1' : 21.809473,\n",
    "'g_CDH1' : 73.377936,\n",
    "'g_SLUG' : 56.03266,\n",
    "\n",
    "\n",
    "'k_ZEB1' : 0.342756,\n",
    "'k_miR200' : 1.000000,\n",
    "'k_PDL1' : 0.395737,\n",
    "'k_CDH1' : 0.799447,\n",
    "'k_SLUG' : 0.648428,\n",
    "\n",
    "\n",
    "'x_ZEB1_miR200' : 1.290665,\n",
    "'x_miR200_ZEB1' : 9.808962,\n",
    "'x_ZEB1_ZEB1' : 1.349563,\n",
    "'x_miR200_PDL1' : 3.693163,\n",
    "'x_PDL1_CDH1' : 13.343554,\n",
    "'x_ZEB1_CDH1' : 0.106027,\n",
    "'x_CDH1_ZEB1' : 2.852426,\n",
    "'x_SLUG_miR200' : 3.553665,\n",
    "'x_miR200_SLUG' : 7.757876,\n",
    "'x_SLUG_ZEB1' : 6.74184,\n",
    "'x_SLUG_SLUG' : 10.558772,\n",
    "'x_SLUG_CDH1' : 15.931325,\n",
    "\n",
    "\n",
    "'l_ZEB1_miR200' : 0.013152,\n",
    "'l_miR200_ZEB1' : 0.161684,\n",
    "'l_ZEB1_ZEB1' : 33.852364,\n",
    "'l_miR200_PDL1' : 0.017462,\n",
    "'l_PDL1_CDH1' : 0.091853,\n",
    "'l_ZEB1_CDH1' : 0.018991,\n",
    "'l_CDH1_ZEB1' : 0.174401,\n",
    "'l_SLUG_miR200' : 0.024793,\n",
    "'l_miR200_SLUG' : 0.052308,\n",
    "'l_SLUG_ZEB1' : 72.555598,\n",
    "'l_SLUG_SLUG' : 80.011943,\n",
    "'l_SLUG_CDH1' : 0.011161,\n",
    "\n",
    "\n",
    "'n_ZEB1_miR200' : 3,\n",
    "'n_miR200_ZEB1' : 3,\n",
    "'n_ZEB1_ZEB1' : 5,\n",
    "'n_miR200_PDL1' : 6,\n",
    "'n_PDL1_CDH1' : 2,\n",
    "'n_ZEB1_CDH1' : 3,\n",
    "'n_CDH1_ZEB1' : 4,\n",
    "'n_SLUG_miR200' : 4,\n",
    "'n_miR200_SLUG' : 1,\n",
    "'n_SLUG_ZEB1' : 2,\n",
    "'n_SLUG_SLUG' : 4,\n",
    "'n_SLUG_CDH1' : 3}\n",
    "    \n",
    "##############################################\n",
    "# auxiliary helper function(s) -- function name: ([func signature], definition)\n",
    "DSargs.fnspecs  = {'heaviside': (['v','tauv'], 'heav(v-tauv)'),\n",
    "                   'hill': (['X','X0','lamb','n'], '(X0**n)/(X0**n+X**n) + lamb*((X**n)/(X0**n+X**n))'),\n",
    "                   'hilla': (['X','X0','lamb','n'], '(1/lamb)*((X0**n)/(X0**n+X**n)) + ((X**n)/(X0**n+X**n))') }\n",
    "# rhs of the differential equation, including dummy variable w\n",
    "DSargs.varspecs = {'ZEB1' : 'g_ZEB1*hill(miR200,x_miR200_ZEB1,l_miR200_ZEB1,n_miR200_ZEB1)*hilla(ZEB1,x_ZEB1_ZEB1,l_ZEB1_ZEB1,n_ZEB1_ZEB1)*hill(CDH1,x_CDH1_ZEB1,l_CDH1_ZEB1,n_CDH1_ZEB1)*hilla(SLUG,x_SLUG_ZEB1,l_SLUG_ZEB1,n_SLUG_ZEB1) - k_ZEB1*ZEB1',\n",
    "                   'miR200' : 'g_miR200*hill(ZEB1,x_ZEB1_miR200,l_ZEB1_miR200,n_ZEB1_miR200)*hill(SLUG,x_SLUG_miR200,l_SLUG_miR200,n_SLUG_miR200) - k_miR200*miR200',\n",
    "                   'PDL1' : 'g_PDL1*hill(miR200,x_miR200_PDL1,l_miR200_PDL1,n_miR200_PDL1) - k_PDL1*PDL1',\n",
    "                   'CDH1' : 'g_CDH1*hill(PDL1,x_PDL1_CDH1,l_PDL1_CDH1,n_PDL1_CDH1)*hill(ZEB1,x_ZEB1_CDH1,l_ZEB1_CDH1,n_ZEB1_CDH1)*hill(SLUG,x_SLUG_CDH1,l_SLUG_CDH1,n_SLUG_CDH1) - k_CDH1*CDH1',\n",
    "                   'SLUG' : 'g_SLUG*hill(miR200,x_miR200_SLUG,l_miR200_SLUG,n_miR200_SLUG)*hilla(SLUG,x_SLUG_SLUG,l_SLUG_SLUG,n_SLUG_SLUG) - k_SLUG*SLUG'}\n",
    "\n",
    "\n",
    "\n",
    "# initial conditions\n",
    "#DSargs.ics      = {'ZEB1': 200, 'miR200': 1,'PDL1': 200, 'CDH1': 1,'SLUG': 200}#Mphenotype\n",
    "DSargs.ics      = {'ZEB1': 1, 'miR200': 100,'PDL1': 1, 'CDH1': 100,'SLUG': 1}#Ephenotype\n",
    "DSargs.tdomain = [0,800]                         # set the range of integration.\n",
    "ode  = dst.Generator.Vode_ODEsystem(DSargs)     # an instance of the 'Generator' class.\n",
    "traj = ode.compute('polarization')              # integrate ODE\n",
    "pts  = traj.sample(dt=0.1)                      # Data for plotting\n",
    "\n",
    "# Prepare the system to start close to a steady state\n",
    "ode.set(pars = {'k_ZEB1': 0.1} )       # Lower bound of the control parameter 'i'\n",
    "ode.set(ics =  {'ZEB1': 128} )       # Close to one of the steady states present for i=-220\n",
    "\n",
    "PC = dst.ContClass(ode)            # Set up continuation class\n",
    "\n",
    "PCargs = dst.args(name='EQ1', type='EP-C')     # 'EP-C' stands for Equilibrium Point Curve. The branch will be labeled 'EQ1'.\n",
    "PCargs.freepars     = ['k_ZEB1']                    # control parameter(s) (it should be among those specified in DSargs.pars)\n",
    "PCargs.MaxNumPoints = 900                      # The following 3 parameters are set after trial-and-error\n",
    "PCargs.MaxStepSize  = 0.45 #to extent\n",
    "PCargs.MinStepSize  = 1e-7\n",
    "PCargs.StepSize     = 0.01\n",
    "PCargs.LocBifPoints = 'LP'                     # detect limit points / saddle-node bifurcations\n",
    "PCargs.SaveEigen    = True   \n",
    "\n",
    "\n",
    "PC.newCurve(PCargs)\n",
    "PC['EQ1'].backward()\n",
    "#PC['EQ1'].forward()\n",
    "PC.display(['k_ZEB1','ZEB1'], stability=True, figure=3)        # stable and unstable branches as solid and dashed curves, resp.\n",
    "plt.yscale(\"log\",basey = 2)\n",
    "#plt.title(\"with SA\")\n",
    "plt.show()"
   ]
  },
  {
   "cell_type": "code",
   "execution_count": 12,
   "metadata": {},
   "outputs": [],
   "source": [
    "ZEB1 = list(PC['EQ1'].sol['ZEB1'])\n",
    "miR200 = list(PC['EQ1'].sol['miR200'])\n",
    "PDL1 = list(PC['EQ1'].sol['PDL1'])\n",
    "CDH1 = list(PC['EQ1'].sol['CDH1'])\n",
    "SLUG = list(PC['EQ1'].sol['SLUG'])\n",
    "with open(\"PDL1_paraset4582_bistable.txt\",\"w\") as f:\n",
    "#with open(\"PDL1_paraset4562_bistableforward_new.txt\",\"w\") as f:\n",
    "    for i,j in enumerate(PC['EQ1'].sol['k_ZEB1']):\n",
    "        f.write(str(j)+\"\\t\"+str(ZEB1[i])+\"\\t\"+str(miR200[i])+\"\\t\"+str(PDL1[i])+\"\\t\"+str(CDH1[i])+\"\\t\"+str(SLUG[i])+\"\\n\")\n"
   ]
  },
  {
   "cell_type": "code",
   "execution_count": null,
   "metadata": {},
   "outputs": [],
   "source": []
  }
 ],
 "metadata": {
  "kernelspec": {
   "display_name": "Python 3",
   "language": "python",
   "name": "python3"
  },
  "language_info": {
   "codemirror_mode": {
    "name": "ipython",
    "version": 3
   },
   "file_extension": ".py",
   "mimetype": "text/x-python",
   "name": "python",
   "nbconvert_exporter": "python",
   "pygments_lexer": "ipython3",
   "version": "3.7.6"
  }
 },
 "nbformat": 4,
 "nbformat_minor": 4
}
